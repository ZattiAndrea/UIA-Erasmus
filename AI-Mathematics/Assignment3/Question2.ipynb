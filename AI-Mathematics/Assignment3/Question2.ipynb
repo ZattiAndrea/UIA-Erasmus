{
  "nbformat": 4,
  "nbformat_minor": 0,
  "metadata": {
    "colab": {
      "provenance": []
    },
    "kernelspec": {
      "name": "python3",
      "display_name": "Python 3"
    },
    "language_info": {
      "name": "python"
    }
  },
  "cells": [
    {
      "cell_type": "markdown",
      "source": [
        "#Question 2 a\n"
      ],
      "metadata": {
        "id": "Q8MOTOggJcsr"
      }
    },
    {
      "cell_type": "code",
      "execution_count": 1,
      "metadata": {
        "id": "OR4gzc6tGAYH"
      },
      "outputs": [],
      "source": [
        "import math\n",
        "\n",
        "#Matrix 2x2 determinant\n",
        "def det_2x2(matrix):\n",
        "    return matrix[0][0] * matrix[1][1] - matrix[0][1] * matrix[1][0]\n",
        "\n",
        "#Matrix 3x3 determinant\n",
        "def det_3x3(matrix):\n",
        "    return (matrix[0][0] * det_2x2([matrix[1][1:], matrix[2][1:]])\n",
        "            - matrix[0][1] * det_2x2([[matrix[1][0], matrix[1][2]], [matrix[2][0], matrix[2][2]]])\n",
        "            + matrix[0][2] * det_2x2([matrix[1][:2], matrix[2][:2]]))\n",
        "\n",
        "#This function calculate the coefficients of the characteristic polynomial of a 3x3 matrix\n",
        "def characteristic_polynomial_coefficients(matrix):\n",
        "    a = - (matrix[0][0] + matrix[1][1] + matrix[2][2])\n",
        "    b = (matrix[0][0] * matrix[1][1] + matrix[0][0] * matrix[2][2] + matrix[1][1] * matrix[2][2]\n",
        "         - matrix[0][1] * matrix[1][0] - matrix[0][2] * matrix[2][0] - matrix[1][2] * matrix[2][1])\n",
        "    c = - det_3x3(matrix)\n",
        "\n",
        "    return [1, a, b, c]\n",
        "\n",
        "#This function solve the third degree equation and find the eigenvalues\n",
        "def solve_cubic(a, b, c):\n",
        "    Q = (3*b - a**2) / 9\n",
        "    R = (9*a*b - 27*c - 2*a**3) / 54\n",
        "    D = Q**3 + R**2\n",
        "\n",
        "    if D >= 0:\n",
        "        S = math.copysign(1, R + math.sqrt(D)) * abs(R + math.sqrt(D))**(1/3)\n",
        "        T = math.copysign(1, R - math.sqrt(D)) * abs(R - math.sqrt(D))**(1/3)\n",
        "        root1 = -a / 3 + (S + T)\n",
        "        root2 = -a / 3 - (S + T) / 2\n",
        "        root3 = root2\n",
        "        return [root1, root2, root3]\n",
        "    else:\n",
        "        theta = math.acos(R / (-Q**3)**0.5)\n",
        "        root1 = 2 * (-Q)**0.5 * math.cos(theta / 3) - a / 3\n",
        "        root2 = 2 * (-Q)**0.5 * math.cos((theta + 2*math.pi) / 3) - a / 3\n",
        "        root3 = 2 * (-Q)**0.5 * math.cos((theta + 4*math.pi) / 3) - a / 3\n",
        "        return [root1, root2, root3]\n",
        "\n",
        "#This is the function that we call to get back the eigenvalues\n",
        "def eigenvalues_3x3(matrix):\n",
        "    coeffs = characteristic_polynomial_coefficients(matrix)\n",
        "    a, b, c = coeffs[1], coeffs[2], coeffs[3]\n",
        "    return solve_cubic(a, b, c)"
      ]
    },
    {
      "cell_type": "code",
      "source": [
        "#This function initialize the A-λI matrix and solve the linear system of equations\n",
        "def solve_eigenvector(matrix, eigenvalue, epsilon=1e-10):\n",
        "    #Create a copy of the matrix and then subtract λ*I from the matrix\n",
        "    A = [row[:] for row in matrix]\n",
        "    for i in range(3):\n",
        "        A[i][i] -= eigenvalue\n",
        "\n",
        "    def argmax(lst):\n",
        "        return max(range(len(lst)), key=lambda i: abs(lst[i]))\n",
        "\n",
        "    #Compute Gaussian elimination with partial pivoting\n",
        "    for i in range(3):\n",
        "        pivot_row = i + argmax([abs(A[j][i]) for j in range(i, 3)])\n",
        "        A[i], A[pivot_row] = A[pivot_row], A[i]\n",
        "        if abs(A[i][i]) < epsilon:\n",
        "            continue\n",
        "        for j in range(i + 1, 3):\n",
        "            factor = A[j][i] / A[i][i]\n",
        "            for k in range(i, 3):\n",
        "                A[j][k] -= factor * A[i][k]\n",
        "\n",
        "    x = [0, 0, 0]\n",
        "    for i in range(2, -1, -1):\n",
        "        if abs(A[i][i]) < epsilon:\n",
        "            x[i] = 1\n",
        "        else:\n",
        "            x[i] = -sum(A[i][j] * x[j] for j in range(i+1, 3)) / A[i][i]\n",
        "\n",
        "    #Normalize the eigenvector\n",
        "    magnitude = sum(xi**2 for xi in x) ** 0.5\n",
        "    return [xi / magnitude for xi in x]"
      ],
      "metadata": {
        "id": "lDPCaSWlJPjP"
      },
      "execution_count": 2,
      "outputs": []
    },
    {
      "cell_type": "code",
      "source": [
        "#Matrix A initialization\n",
        "matA = [[2, -1, 0],[-1, 2, -1],[0, -1, 2]]\n",
        "\n",
        "eigenvalues = eigenvalues_3x3(matA)\n",
        "\n",
        "print(\"The eigenvalues are:\")\n",
        "for i in range(len(eigenvalues)):\n",
        "    print(f\"λ{i} = {eigenvalues[i]}\")"
      ],
      "metadata": {
        "colab": {
          "base_uri": "https://localhost:8080/"
        },
        "id": "hbh8ULF2jpK8",
        "outputId": "cab0e32a-dc74-4069-c546-1b9b51f8dd3d"
      },
      "execution_count": 3,
      "outputs": [
        {
          "output_type": "stream",
          "name": "stdout",
          "text": [
            "The eigenvalues are:\n",
            "λ0 = 3.414213562373095\n",
            "λ1 = 0.5857864376269049\n",
            "λ2 = 1.9999999999999998\n"
          ]
        }
      ]
    },
    {
      "cell_type": "code",
      "source": [
        "num = 0\n",
        "for i in eigenvalues:\n",
        "    v = solve_eigenvector(matA, i)\n",
        "    print(f\"This is the eigenvector v{num} = {v}\")\n",
        "    print(f\"associated with the eigenvalue λ{num} = {i}\\n\")\n",
        "    num += 1"
      ],
      "metadata": {
        "colab": {
          "base_uri": "https://localhost:8080/"
        },
        "id": "_yNH5IOvo_0x",
        "outputId": "b5bda1f2-c160-4b82-bd82-541788db4456"
      },
      "execution_count": 4,
      "outputs": [
        {
          "output_type": "stream",
          "name": "stdout",
          "text": [
            "This is the eigenvector v0 = [0.5000000000000001, -0.7071067811865476, 0.5000000000000001]\n",
            "associated with the eigenvalue λ0 = 3.414213562373095\n",
            "\n",
            "This is the eigenvector v1 = [0.5, 0.7071067811865476, 0.5]\n",
            "associated with the eigenvalue λ1 = 0.5857864376269049\n",
            "\n",
            "This is the eigenvector v2 = [-0.7071067811865475, -1.570092458683775e-16, 0.7071067811865475]\n",
            "associated with the eigenvalue λ2 = 1.9999999999999998\n",
            "\n"
          ]
        }
      ]
    },
    {
      "cell_type": "markdown",
      "source": [
        "#Question 2 b"
      ],
      "metadata": {
        "id": "sPCz71RjJgfh"
      }
    },
    {
      "cell_type": "code",
      "source": [
        "#Multiplication between a matrix and a vector (in this exact order)\n",
        "def mat_vec_mult(mat, v):\n",
        "    return [sum(mat[i][j] * v[j] for j in range(len(v))) for i in range(len(mat))]\n",
        "\n",
        "def scalar_vect_mult(scalar, v):\n",
        "    return [scalar * x for x in v]"
      ],
      "metadata": {
        "id": "xWyEcuNCJhoW"
      },
      "execution_count": 5,
      "outputs": []
    },
    {
      "cell_type": "code",
      "source": [
        "#Matrix B initialization\n",
        "matB = [[1, 2, 3],[3, 2, 1],[1, 0, -1]]\n",
        "\n",
        "eigenvalues = eigenvalues_3x3(matB)"
      ],
      "metadata": {
        "id": "PPfQZeJjxtmC"
      },
      "execution_count": 6,
      "outputs": []
    },
    {
      "cell_type": "code",
      "source": [
        "num = 0\n",
        "for i in eigenvalues:\n",
        "    v = solve_eigenvector(matB, i)\n",
        "    print(f\"This is the eigenvector v{num} = {v}\")\n",
        "    print(f\"associated with the eigenvalue λ{num} = {i}\\n\")\n",
        "    num += 1"
      ],
      "metadata": {
        "colab": {
          "base_uri": "https://localhost:8080/"
        },
        "id": "tPlCKTiT1JSR",
        "outputId": "6eec37ea-638c-440f-857b-708cbb5a3335"
      },
      "execution_count": 7,
      "outputs": [
        {
          "output_type": "stream",
          "name": "stdout",
          "text": [
            "This is the eigenvector v0 = [0.5842815348693393, 0.8040756929710179, 0.1098970790508393]\n",
            "associated with the eigenvalue λ0 = 4.3166247903554\n",
            "\n",
            "This is the eigenvector v1 = [-0.7359578492925103, 0.38198836390897634, 0.5589731066007434]\n",
            "associated with the eigenvalue λ1 = -2.3166247903554003\n",
            "\n",
            "This is the eigenvector v2 = [0.4082482904638632, -0.816496580927726, 0.4082482904638629]\n",
            "associated with the eigenvalue λ2 = -4.440892098500626e-16\n",
            "\n"
          ]
        }
      ]
    },
    {
      "cell_type": "code",
      "source": [
        "#Verify B*v=λ*v\n",
        "for i in range(len(eigenvalues)):\n",
        "    v = solve_eigenvector(matB, eigenvalues[i])\n",
        "    Bv = mat_vec_mult(matB, v)\n",
        "    lambdaV = scalar_vect_mult(eigenvalues[i], v)\n",
        "\n",
        "    print(f\"Verify that B*v=λ*v is true for λ{i} = {eigenvalues[i]}:\")\n",
        "    print(\"B*v = \", Bv)\n",
        "    print(\"λ*v = \", lambdaV, \"\\n\")"
      ],
      "metadata": {
        "id": "A_7SUaK3yR-r",
        "colab": {
          "base_uri": "https://localhost:8080/"
        },
        "outputId": "45a3ba82-3cb3-4afa-b399-544e8a2939cc"
      },
      "execution_count": 8,
      "outputs": [
        {
          "output_type": "stream",
          "name": "stdout",
          "text": [
            "Verify that B*v=λ*v is true for λ0 = 4.3166247903554:\n",
            "B*v =  [2.522124157963893, 3.470893069600893, 0.47438445581850003]\n",
            "λ*v =  [2.522124157963893, 3.470893069600893, 0.4743844558185] \n",
            "\n",
            "Verify that B*v=λ*v is true for λ1 = -2.3166247903554003:\n",
            "B*v =  [1.7049381983276728, -0.8849237134588351, -1.2949309558932538]\n",
            "λ*v =  [1.704938198327673, -0.8849237134588347, -1.294930955893254] \n",
            "\n",
            "Verify that B*v=λ*v is true for λ2 = -4.440892098500626e-16:\n",
            "B*v =  [-2.220446049250313e-16, 4.440892098500626e-16, 2.7755575615628914e-16]\n",
            "λ*v =  [-1.8129866073473585e-16, 3.6259732146947156e-16, -1.8129866073473573e-16] \n",
            "\n"
          ]
        }
      ]
    },
    {
      "cell_type": "markdown",
      "source": [
        "#Question 2 a and b with numpy\n"
      ],
      "metadata": {
        "id": "nIYVaQZLtuF1"
      }
    },
    {
      "cell_type": "code",
      "source": [
        "import numpy as np\n",
        "\n",
        "#Matrix A definition\n",
        "matA = np.array([[2, -1, 0],[-1, 2, -1],[0, -1, 2]])\n",
        "\n",
        "#Find eigenvalues and eigenvectors\n",
        "eigenvalues, eigenvectors = np.linalg.eig(matA)"
      ],
      "metadata": {
        "id": "InPbmuZHnFmw"
      },
      "execution_count": 9,
      "outputs": []
    },
    {
      "cell_type": "code",
      "source": [
        "newEigenvectors = []\n",
        "for v in eigenvectors:\n",
        "  if v[0] != 0:\n",
        "    temp = []\n",
        "    temp.append(v[0]/v[0])\n",
        "    temp.append(v[1]/v[0])\n",
        "    temp.append(v[2]/v[0])\n",
        "    newEigenvectors.append(temp)\n",
        "\n",
        "  elif v[1] != 0:\n",
        "    temp = []\n",
        "    temp.append(v[0]/v[1])\n",
        "    temp.append(v[1]/v[1])\n",
        "    temp.append(v[2]/v[1])\n",
        "    newEigenvectors.append(temp)\n",
        "\n",
        "  elif v[2] != 0:\n",
        "    temp = []\n",
        "    temp.append(v[0]/v[2])\n",
        "    temp.append(v[1]/v[2])\n",
        "    temp.append(v[2]/v[2])\n",
        "    newEigenvectors.append(temp)\n",
        "\n",
        "  else:\n",
        "    newEigenvectors.append(v)\n",
        "\n",
        "for i,v in enumerate(newEigenvectors):\n",
        "    print(f\"This is the eigenvector v{i} = {v}\")\n",
        "    print(f\"associated with the eigenvalue λ{i} = {eigenvalues[i]}\\n\")"
      ],
      "metadata": {
        "colab": {
          "base_uri": "https://localhost:8080/"
        },
        "id": "9DDyAzTwpR9a",
        "outputId": "10f7eb06-1334-4fb6-bd40-4e7776591cc2"
      },
      "execution_count": 10,
      "outputs": [
        {
          "output_type": "stream",
          "name": "stdout",
          "text": [
            "This is the eigenvector v0 = [1.0, 1.4142135623730967, -1.0000000000000009]\n",
            "associated with the eigenvalue λ0 = 3.4142135623730914\n",
            "\n",
            "This is the eigenvector v1 = [1.0, 5.733298602273613e-16, 1.0000000000000002]\n",
            "associated with the eigenvalue λ1 = 1.9999999999999998\n",
            "\n",
            "This is the eigenvector v2 = [1.0, -1.4142135623730936, -0.9999999999999993]\n",
            "associated with the eigenvalue λ2 = 0.5857864376269049\n",
            "\n"
          ]
        }
      ]
    },
    {
      "cell_type": "code",
      "source": [
        "#Verify A*v=λ*v\n",
        "for i in range(len(eigenvalues)):\n",
        "    v = eigenvectors[:, i]\n",
        "    lambdaI = eigenvalues[i]\n",
        "    Av = np.dot(matA, v)\n",
        "    lambdaV = lambdaI * v\n",
        "\n",
        "    print(f\"Verify that A*v=λ*v is true for λ{i} = {lambdaI}:\")\n",
        "    print(\"A*v = \", Av)\n",
        "    print(\"λ*v = \", lambdaV, \"\\n\")"
      ],
      "metadata": {
        "colab": {
          "base_uri": "https://localhost:8080/"
        },
        "id": "_vgWtdqynSJc",
        "outputId": "d7afb16d-cde8-4cdf-9305-f23d17ef7379"
      },
      "execution_count": 11,
      "outputs": [
        {
          "output_type": "stream",
          "name": "stdout",
          "text": [
            "Verify that A*v=λ*v is true for λ0 = 3.4142135623730914:\n",
            "A*v =  [-1.70710678  2.41421356 -1.70710678]\n",
            "λ*v =  [-1.70710678  2.41421356 -1.70710678] \n",
            "\n",
            "Verify that A*v=λ*v is true for λ1 = 1.9999999999999998:\n",
            "A*v =  [-1.41421356e+00  1.33226763e-15  1.41421356e+00]\n",
            "λ*v =  [-1.41421356e+00  8.10810864e-16  1.41421356e+00] \n",
            "\n",
            "Verify that A*v=λ*v is true for λ2 = 0.5857864376269049:\n",
            "A*v =  [0.29289322 0.41421356 0.29289322]\n",
            "λ*v =  [0.29289322 0.41421356 0.29289322] \n",
            "\n"
          ]
        }
      ]
    },
    {
      "cell_type": "code",
      "source": [
        "#Matrix B definition\n",
        "matB = np.array([[1, 2, 3],[3, 2, 1],[1, 0, -1]])\n",
        "\n",
        "#Find eigenvalues and eigenvectors\n",
        "eigenvalues, eigenvectors = np.linalg.eig(matB)"
      ],
      "metadata": {
        "id": "6VUhNyIlnam9"
      },
      "execution_count": 12,
      "outputs": []
    },
    {
      "cell_type": "code",
      "source": [
        "newEigenvectors = []\n",
        "for v in eigenvectors:\n",
        "  if v[0] != 0:\n",
        "    temp = []\n",
        "    temp.append(v[0]/v[0])\n",
        "    temp.append(v[1]/v[0])\n",
        "    temp.append(v[2]/v[0])\n",
        "    newEigenvectors.append(temp)\n",
        "\n",
        "  elif v[1] != 0:\n",
        "    temp = []\n",
        "    temp.append(v[0]/v[1])\n",
        "    temp.append(v[1]/v[1])\n",
        "    temp.append(v[2]/v[1])\n",
        "    newEigenvectors.append(temp)\n",
        "\n",
        "  elif v[2] != 0:\n",
        "    temp = []\n",
        "    temp.append(v[0]/v[2])\n",
        "    temp.append(v[1]/v[2])\n",
        "    temp.append(v[2]/v[2])\n",
        "    newEigenvectors.append(temp)\n",
        "\n",
        "  else:\n",
        "    newEigenvectors.append(v)\n",
        "\n",
        "for i,v in enumerate(newEigenvectors):\n",
        "    print(f\"This is the eigenvector v{i} = {v}\")\n",
        "    print(f\"associated with the eigenvalue λ{i} = {eigenvalues[i]}\\n\")"
      ],
      "metadata": {
        "colab": {
          "base_uri": "https://localhost:8080/"
        },
        "id": "Iz7ur3MPncwZ",
        "outputId": "6320f32e-0ac9-45a2-fa83-e8af511a428f"
      },
      "execution_count": 13,
      "outputs": [
        {
          "output_type": "stream",
          "name": "stdout",
          "text": [
            "This is the eigenvector v0 = [1.0, 1.2595945710608332, 0.6987184535194293]\n",
            "associated with the eigenvalue λ0 = 4.3166247903554\n",
            "\n",
            "This is the eigenvector v1 = [1.0, -0.4750651801169975, -1.0154474113137453]\n",
            "associated with the eigenvalue λ1 = -2.3166247903554\n",
            "\n",
            "This is the eigenvector v2 = [1.0, -5.086332698088889, 3.7148238514601832]\n",
            "associated with the eigenvalue λ2 = 1.9304150856667875e-17\n",
            "\n"
          ]
        }
      ]
    },
    {
      "cell_type": "code",
      "source": [
        "#Verify B*v=λ*v\n",
        "for i in range(len(eigenvalues)):\n",
        "    v = eigenvectors[:, i]\n",
        "    lambdaI = eigenvalues[i]\n",
        "    Bv = np.dot(matB, v)\n",
        "    lambdaV = lambdaI * v\n",
        "\n",
        "    print(f\"Verify that A*v=λ*v is true for λ{i} = {lambdaI}:\")\n",
        "    print(\"A*v= \", Bv)\n",
        "    print(\"λ*v= \", lambdaV, \"\\n\")"
      ],
      "metadata": {
        "colab": {
          "base_uri": "https://localhost:8080/"
        },
        "id": "xMk3x0Enne7X",
        "outputId": "7a04af42-f6ff-48c6-d8ab-9af0a430b6a5"
      },
      "execution_count": 14,
      "outputs": [
        {
          "output_type": "stream",
          "name": "stdout",
          "text": [
            "Verify that A*v=λ*v is true for λ0 = 4.3166247903554:\n",
            "A*v=  [2.52212416 3.47089307 0.47438446]\n",
            "λ*v=  [2.52212416 3.47089307 0.47438446] \n",
            "\n",
            "Verify that A*v=λ*v is true for λ1 = -2.3166247903554:\n",
            "A*v=  [-1.7049382   0.88492371  1.29493096]\n",
            "λ*v=  [-1.7049382   0.88492371  1.29493096] \n",
            "\n",
            "Verify that A*v=λ*v is true for λ2 = 1.9304150856667875e-17:\n",
            "A*v=  [-2.77555756e-16  2.22044605e-16  2.22044605e-16]\n",
            "λ*v=  [ 7.88088659e-18 -1.57617732e-17  7.88088659e-18] \n",
            "\n"
          ]
        }
      ]
    }
  ]
}