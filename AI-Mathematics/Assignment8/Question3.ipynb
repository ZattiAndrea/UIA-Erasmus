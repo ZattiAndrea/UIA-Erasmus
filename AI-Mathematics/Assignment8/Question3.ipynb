{
  "nbformat": 4,
  "nbformat_minor": 0,
  "metadata": {
    "colab": {
      "provenance": []
    },
    "kernelspec": {
      "name": "python3",
      "display_name": "Python 3"
    },
    "language_info": {
      "name": "python"
    }
  },
  "cells": [
    {
      "cell_type": "code",
      "source": [
        "import numpy as np\n",
        "import pandas as pd\n",
        "import statsmodels.api as sm\n",
        "from sklearn.datasets import load_diabetes"
      ],
      "metadata": {
        "id": "sYhD9pTmFYGc"
      },
      "execution_count": 38,
      "outputs": []
    },
    {
      "cell_type": "code",
      "source": [
        "#Load the diabetes dataset, split data and target and get the features names\n",
        "diabetes = load_diabetes()\n",
        "x = diabetes.data\n",
        "y = diabetes.target\n",
        "featureNames = diabetes.feature_names\n",
        "\n",
        "#This DataFrame is just for a better summary\n",
        "xWithConst = sm.add_constant(x)\n",
        "xDF = pd.DataFrame(xWithConst, columns=['const'] + list(featureNames))\n",
        "\n",
        "#Create and fit the model\n",
        "model = sm.OLS(y, xDF)\n",
        "results = model.fit()\n",
        "\n",
        "#Specific features summary creation\n",
        "specificSummary = pd.DataFrame({\n",
        "    'Coefficient': results.params,\n",
        "    'Std Error': results.bse,\n",
        "    't-value': results.tvalues,\n",
        "    'P-value': results.pvalues,\n",
        "})"
      ],
      "metadata": {
        "id": "xkL3EnSiG6r5"
      },
      "execution_count": 39,
      "outputs": []
    },
    {
      "cell_type": "code",
      "source": [
        "#We can also use the already implemented function in the library\n",
        "print(\"\\nLinear Regression Model Summary: \\n\")\n",
        "print(results.summary())"
      ],
      "metadata": {
        "colab": {
          "base_uri": "https://localhost:8080/"
        },
        "id": "buh-Cm3zIqEO",
        "outputId": "a6b4dd0a-8804-4867-fd4c-615c62d39ea6"
      },
      "execution_count": 40,
      "outputs": [
        {
          "output_type": "stream",
          "name": "stdout",
          "text": [
            "\n",
            "Linear Regression Model Summary: \n",
            "\n",
            "                            OLS Regression Results                            \n",
            "==============================================================================\n",
            "Dep. Variable:                      y   R-squared:                       0.518\n",
            "Model:                            OLS   Adj. R-squared:                  0.507\n",
            "Method:                 Least Squares   F-statistic:                     46.27\n",
            "Date:                Tue, 22 Oct 2024   Prob (F-statistic):           3.83e-62\n",
            "Time:                        08:14:46   Log-Likelihood:                -2386.0\n",
            "No. Observations:                 442   AIC:                             4794.\n",
            "Df Residuals:                     431   BIC:                             4839.\n",
            "Df Model:                          10                                         \n",
            "Covariance Type:            nonrobust                                         \n",
            "==============================================================================\n",
            "                 coef    std err          t      P>|t|      [0.025      0.975]\n",
            "------------------------------------------------------------------------------\n",
            "const        152.1335      2.576     59.061      0.000     147.071     157.196\n",
            "age          -10.0099     59.749     -0.168      0.867    -127.446     107.426\n",
            "sex         -239.8156     61.222     -3.917      0.000    -360.147    -119.484\n",
            "bmi          519.8459     66.533      7.813      0.000     389.076     650.616\n",
            "bp           324.3846     65.422      4.958      0.000     195.799     452.970\n",
            "s1          -792.1756    416.680     -1.901      0.058   -1611.153      26.802\n",
            "s2           476.7390    339.030      1.406      0.160    -189.620    1143.098\n",
            "s3           101.0433    212.531      0.475      0.635    -316.684     518.770\n",
            "s4           177.0632    161.476      1.097      0.273    -140.315     494.441\n",
            "s5           751.2737    171.900      4.370      0.000     413.407    1089.140\n",
            "s6            67.6267     65.984      1.025      0.306     -62.064     197.318\n",
            "==============================================================================\n",
            "Omnibus:                        1.506   Durbin-Watson:                   2.029\n",
            "Prob(Omnibus):                  0.471   Jarque-Bera (JB):                1.404\n",
            "Skew:                           0.017   Prob(JB):                        0.496\n",
            "Kurtosis:                       2.726   Cond. No.                         227.\n",
            "==============================================================================\n",
            "\n",
            "Notes:\n",
            "[1] Standard Errors assume that the covariance matrix of the errors is correctly specified.\n"
          ]
        }
      ]
    },
    {
      "cell_type": "code",
      "source": [
        "print(\"\\nSpecific Features Statistics Summary: \\n\")\n",
        "print(specificSummary)"
      ],
      "metadata": {
        "colab": {
          "base_uri": "https://localhost:8080/"
        },
        "id": "WW-1CaymIp4J",
        "outputId": "3d7947bc-dc64-49d3-c83c-598631abd755"
      },
      "execution_count": 41,
      "outputs": [
        {
          "output_type": "stream",
          "name": "stdout",
          "text": [
            "\n",
            "Specific Features Statistics Summary: \n",
            "\n",
            "       Coefficient   Std Error    t-value        P-value\n",
            "const   152.133484    2.575854  59.061366  1.010082e-208\n",
            "age     -10.009866   59.749247  -0.167531   8.670306e-01\n",
            "sex    -239.815644   61.222344  -3.917126   1.041671e-04\n",
            "bmi     519.845920   66.533445   7.813302   4.296391e-14\n",
            "bp      324.384646   65.421992   4.958343   1.024278e-06\n",
            "s1     -792.175639  416.679870  -1.901161   5.794761e-02\n",
            "s2      476.739021  339.030495   1.406183   1.603902e-01\n",
            "s3      101.043268  212.531457   0.475427   6.347233e-01\n",
            "s4      177.063238  161.475795   1.096531   2.734587e-01\n",
            "s5      751.273700  171.899982   4.370412   1.555899e-05\n",
            "s6       67.626692   65.984282   1.024891   3.059895e-01\n"
          ]
        }
      ]
    },
    {
      "cell_type": "markdown",
      "source": [
        "To conclude, in the regression model, the variables sex, BMI, blood pressure (BP), and S5 are highly significant, with high t-values and very low p-values, indicating a relevant impact on the dependent variable. In contrast, variables such as age, S1, S2, S3, S4, and S6 do not show statistical significance, with low t-values and confidence intervals that include zero, suggesting they do not contribute meaningfully to the model."
      ],
      "metadata": {
        "id": "m_l4gRPuRiyF"
      }
    }
  ]
}